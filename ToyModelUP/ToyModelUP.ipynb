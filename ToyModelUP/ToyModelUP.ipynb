{
 "cells": [
  {
   "cell_type": "code",
   "execution_count": 1,
   "metadata": {},
   "outputs": [],
   "source": [
    "# Set up working environment\n",
    "import matplotlib.pyplot as plt\n",
    "from matplotlib.patches import Rectangle\n",
    "import seaborn as sns\n",
    "import pandas as pd\n",
    "import numpy as np\n",
    "import os\n",
    "import shutil\n",
    "import maboss\n",
    "#import ginsim"
   ]
  },
  {
   "cell_type": "markdown",
   "metadata": {},
   "source": [
    "## Toy model\n",
    "\n",
    "The following introduces a toy model accounting for differentation process in two cell types T1 and T2: \n",
    "    an input node I activate a node A drive the cell in type T1; \n",
    "    in parralel, the node A activate a ligand L, that will trigger a receptor R that drives the cell in type T2. \n",
    "    To avoid cross cell types, T2 is only activated without A and T1 is only activated when cell in not in type T2."
   ]
  },
  {
   "cell_type": "code",
   "execution_count": 2,
   "metadata": {},
   "outputs": [],
   "source": [
    "# Set up the required files\n",
    "bnd_file =\"ToyModelUP.bnd\"\n",
    "cfg_file = \"ToyModelUP.cfg\"\n",
    "upp_file = \"ToyModelUP.upp\""
   ]
  },
  {
   "cell_type": "markdown",
   "metadata": {},
   "source": [
    "The update of node R depends on an external parameter `$innerOn`."
   ]
  },
  {
   "cell_type": "code",
   "execution_count": 3,
   "metadata": {},
   "outputs": [
    {
     "name": "stdout",
     "output_type": "stream",
     "text": [
      "Node I {\n",
      "\n",
      "\n",
      "\trate_up = 0.0;\n",
      "\trate_down = 0.0;\n",
      "}\n",
      "Node A {\n",
      "\n",
      "\n",
      "\trate_up = I ? 1.0 : 0.0;\n",
      "\trate_down = 0.0;\n",
      "}\n",
      "\n",
      "Node L {\n",
      "\n",
      "\n",
      "\trate_up = A ? 1.0 : 0.0;\n",
      "\trate_down = 0.0;\n",
      "}\n",
      "\n",
      "Node R {\n",
      "\n",
      "\n",
      "\trate_up = $innerOn ? L : $outerL;\n",
      "\trate_down = 0.0;\n",
      "}\n",
      "\n",
      "Node T1 {\n",
      "\n",
      "\n",
      "\trate_up = (A & (!T2)) ? 1.0 :0.0;\n",
      "\trate_down = 0.0;\n",
      "}\n",
      "\n",
      "Node T2 {\n",
      "\n",
      "\n",
      "\trate_up = (R & (!A)) ? 1.0 : 0.0;\n",
      "\trate_down = 0.0;\n",
      "}\n"
     ]
    }
   ],
   "source": [
    "model_maboss = maboss.load(bnd_file,cfg_file)\n",
    "model_maboss.print_bnd()"
   ]
  },
  {
   "cell_type": "markdown",
   "metadata": {},
   "source": [
    "Activation of R depends on L:\n",
    "- If `$innerOn` is set at 1, R is activated by the state of L inside the cell.\n",
    "- If `$innerOn` is set at 0, R is activted by the population state of L, through update of `$outerL` described in the `upp` file."
   ]
  },
  {
   "cell_type": "code",
   "execution_count": 4,
   "metadata": {},
   "outputs": [
    {
     "name": "stdout",
     "output_type": "stream",
     "text": [
      "$outerL u= 5*p[(L) = (1)];\n",
      "steps = 15;\n",
      "MaBoSS = MaBoSS;\n"
     ]
    }
   ],
   "source": [
    "ufile = open(upp_file, 'r') \n",
    "print(ufile.read())\n",
    "ufile.close()"
   ]
  },
  {
   "cell_type": "markdown",
   "metadata": {},
   "source": [
    "Let's consider the two cases, and run them with UPMaBoSS (the case \"innerOn\" could have been simulted simply by MaBoSS, as there is no use of the updated parameter `$outerL`)."
   ]
  },
  {
   "cell_type": "code",
   "execution_count": 5,
   "metadata": {},
   "outputs": [],
   "source": [
    "model_maboss = maboss.load(bnd_file,cfg_file)\n",
    "model_maboss.update_parameters(max_time=1)\n",
    "\n",
    "model_maboss_innerOn = maboss.copy_and_update_parameters(model_maboss,{\"$innerOn\":1})\n",
    "model_upmaboss_innerOn = maboss.UpdatePopulation(model_maboss_innerOn, upp_file)\n",
    "\n",
    "model_maboss_innerOff = maboss.copy_and_update_parameters(model_maboss,{\"$innerOn\":0})\n",
    "model_upmaboss_innerOff = maboss.UpdatePopulation(model_maboss_innerOff, upp_file)"
   ]
  },
  {
   "cell_type": "code",
   "execution_count": 6,
   "metadata": {},
   "outputs": [
    {
     "name": "stdout",
     "output_type": "stream",
     "text": [
      "CPU times: user 83.2 ms, sys: 113 ms, total: 196 ms\n",
      "Wall time: 14.4 s\n"
     ]
    },
    {
     "data": {
      "image/png": "[encoded data removed]",
      "text/plain": [
       "<Figure size 432x288 with 1 Axes>"
      ]
     },
     "metadata": {},
     "output_type": "display_data"
    },
    {
     "data": {
      "image/png": "[encoded data removed]",
      "text/plain": [
       "<Figure size 432x288 with 1 Axes>"
      ]
     },
     "metadata": {
      "needs_background": "light"
     },
     "output_type": "display_data"
    }
   ],
   "source": [
    "%time ur = model_upmaboss_innerOn.run()\n",
    "\n",
    "ur.results[-1].plot_piechart()\n",
    "ur.results[-1]._piefig.savefig(\"On_pop_pie.pdf\")\n",
    "\n",
    "traj = ur.get_nodes_stepwise_probability_distribution()\n",
    "p = traj.plot()\n",
    "p.get_figure().savefig(\"On_pop_traj.pdf\")"
   ]
  },
  {
   "cell_type": "code",
   "execution_count": null,
   "metadata": {},
   "outputs": [],
   "source": [
    "%time ur = model_upmaboss_innerOff.run()\n",
    "\n",
    "ur.results[-1].plot_piechart()\n",
    "ur.results[-1]._piefig.savefig(\"Off_pop_pie.pdf\")\n",
    "\n",
    "traj = ur.get_nodes_stepwise_probability_distribution()\n",
    "p = traj.plot()\n",
    "p.get_figure().savefig(\"Off_pop_traj.pdf\")"
   ]
  },
  {
   "cell_type": "code",
   "execution_count": null,
   "metadata": {},
   "outputs": [],
   "source": []
  }
 ],
 "metadata": {
  "kernelspec": {
   "display_name": "Python 3",
   "language": "python",
   "name": "python3"
  },
  "language_info": {
   "codemirror_mode": {
    "name": "ipython",
    "version": 3
   },
   "file_extension": ".py",
   "mimetype": "text/x-python",
   "name": "python",
   "nbconvert_exporter": "python",
   "pygments_lexer": "ipython3",
   "version": "3.7.7"
  }
 },
 "nbformat": 4,
 "nbformat_minor": 4
}
